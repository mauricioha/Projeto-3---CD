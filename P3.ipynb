{
 "cells": [
  {
   "cell_type": "code",
   "execution_count": 2,
   "metadata": {},
   "outputs": [],
   "source": [
    "import pandas as pd\n",
    "pokedex=pd.read_csv(\"Pokemon.csv\")"
   ]
  },
  {
   "cell_type": "code",
   "execution_count": 3,
   "metadata": {},
   "outputs": [],
   "source": [
    "deck=6\n",
    "\n",
    "Pokemons={'Fairy':[],'Grass':[],'Fire':[],'Flying':[],'Dark':[],'Ghost':[],'Psychic':[],'Bug':[],'Dragon':[],'Ice':[],\\\n",
    "          'Electric':[],'Poison':[],'Rock':[],'Ground':[],'Steel':[],'Normal':[],'Water':[],'Fighting':[]}\n",
    "\n",
    "def ClassificaPokemon(dicionario):\n",
    "    for tipo in dicionario:\n",
    "        for pokemon in pokedex.Name:\n",
    "            linha=pokedex[pokedex.Name==pokemon]\n",
    "            if linha['Type 1'].all()==tipo or linha['Type 2'].all()==tipo:\n",
    "                dicionario[tipo].append(pokemon)\n",
    "ClassificaPokemon(Pokemons)"
   ]
  },
  {
   "cell_type": "code",
   "execution_count": 39,
   "metadata": {},
   "outputs": [
    {
     "data": {
      "text/plain": [
       "Bug         [Caterpie, Metapod, Butterfree, Weedle, Kakuna...\n",
       "Dark        [GyaradosMega Gyarados, Umbreon, Murkrow, Snea...\n",
       "Dragon      [CharizardMega Charizard X, Dratini, Dragonair...\n",
       "Electric    [Pikachu, Raichu, Magnemite, Magneton, Voltorb...\n",
       "Fairy       [Clefairy, Clefable, Jigglypuff, Wigglytuff, M...\n",
       "Fighting    [Mankey, Primeape, Poliwrath, Machop, Machoke,...\n",
       "Fire        [Charmander, Charmeleon, Charizard, CharizardM...\n",
       "Flying      [Charizard, CharizardMega Charizard Y, Butterf...\n",
       "Ghost       [Gastly, Haunter, Gengar, GengarMega Gengar, M...\n",
       "Grass       [Bulbasaur, Ivysaur, Venusaur, VenusaurMega Ve...\n",
       "Ground      [Sandshrew, Sandslash, Nidoqueen, Nidoking, Di...\n",
       "Ice         [Dewgong, Cloyster, Jynx, Lapras, Articuno, Sn...\n",
       "Normal      [Pidgey, Pidgeotto, Pidgeot, PidgeotMega Pidge...\n",
       "Poison      [Bulbasaur, Ivysaur, Venusaur, VenusaurMega Ve...\n",
       "Psychic     [Abra, Kadabra, Alakazam, AlakazamMega Alakaza...\n",
       "Rock        [Geodude, Graveler, Golem, Onix, Rhyhorn, Rhyd...\n",
       "Steel       [Magnemite, Magneton, Forretress, Steelix, Ste...\n",
       "Water       [Squirtle, Wartortle, Blastoise, BlastoiseMega...\n",
       "dtype: object"
      ]
     },
     "execution_count": 39,
     "metadata": {},
     "output_type": "execute_result"
    }
   ],
   "source": [
    "pd.Series(Pokemons)"
   ]
  },
  {
   "cell_type": "code",
   "execution_count": null,
   "metadata": {},
   "outputs": [],
   "source": []
  }
 ],
 "metadata": {
  "kernelspec": {
   "display_name": "Python 3",
   "language": "python",
   "name": "python3"
  },
  "language_info": {
   "codemirror_mode": {
    "name": "ipython",
    "version": 3
   },
   "file_extension": ".py",
   "mimetype": "text/x-python",
   "name": "python",
   "nbconvert_exporter": "python",
   "pygments_lexer": "ipython3",
   "version": "3.6.4"
  }
 },
 "nbformat": 4,
 "nbformat_minor": 2
}
