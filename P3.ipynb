{
 "cells": [
  {
   "cell_type": "markdown",
   "metadata": {},
   "source": [
    "# <font color = \"BLUE\"> Projeto 3 - Identificador de pokémons para uma batalha </font>\n",
    "\n",
    "#### Integrantes: \n",
    "\n",
    "Fernando Elias Sanches\n",
    "   \n",
    "Maurício Hiroki Ando\n",
    "\n",
    "\n",
    "Theo Barbara Rodriguez\n"
   ]
  },
  {
   "cell_type": "markdown",
   "metadata": {},
   "source": [
    "## <font color = \"BLUE\"> Importando os dados </font> "
   ]
  },
  {
   "cell_type": "code",
   "execution_count": 26,
   "metadata": {},
   "outputs": [],
   "source": [
    "import matplotlib.pyplot as plt\n",
    "\n",
    "import pandas as pd\n",
    "import numpy as np\n",
    "\n",
    "from scipy.stats import norm\n",
    "from mpl_toolkits.mplot3d import Axes3D\n",
    "\n",
    "from sklearn import cluster, datasets\n",
    "from sklearn.neighbors import kneighbors_graph\n",
    "from sklearn.preprocessing import StandardScaler\n",
    "\n",
    "pokedex=pd.read_csv(\"Pokemon.csv\")"
   ]
  },
  {
   "cell_type": "markdown",
   "metadata": {},
   "source": [
    "## <font color = \"BLUE\"> Analisando os dados </font>"
   ]
  },
  {
   "cell_type": "code",
   "execution_count": 33,
   "metadata": {},
   "outputs": [
    {
     "name": "stdout",
     "output_type": "stream",
     "text": [
      "Pokémons disponíveis:800\n"
     ]
    },
    {
     "data": {
      "image/png": "[encoded data removed]",
      "text/plain": [
       "<matplotlib.figure.Figure at 0x21b659271d0>"
      ]
     },
     "metadata": {
      "needs_background": "light"
     },
     "output_type": "display_data"
    }
   ],
   "source": [
    "# del(pokedex[\"#\"])\n",
    "# del(pokedex[\"Total\"])\n",
    "# del(pokedex[\"Generation\"])\n",
    "# del(pokedex[\"Legendary\"])\n",
    "pokedex.plot.box();\n",
    "print(\"Pokémons disponíveis:{}\".format(len(pokedex)))"
   ]
  },
  {
   "cell_type": "markdown",
   "metadata": {},
   "source": [
    "Nota-se que, através da análise dos atributos de ataque, defesa, velocidade, HP, ataque especial, defesa especial; podemos observar que a grande maioria dos pokémons se encontram dentro do interquantil. Podemos ver que são poucos os pokémons que estão fora da curva em cada atributo, dado que existem cerca de 800 pokémons no dataset."
   ]
  },
  {
   "cell_type": "markdown",
   "metadata": {},
   "source": [
    "## <font color = \"BLUE\"> Clusterização dos dados </font>"
   ]
  },
  {
   "cell_type": "code",
   "execution_count": null,
   "metadata": {},
   "outputs": [],
   "source": []
  },
  {
   "cell_type": "markdown",
   "metadata": {},
   "source": [
    "## <font color=\"BLUE\"> Identificando os ponto fracos dos pokémons </font>"
   ]
  },
  {
   "cell_type": "code",
   "execution_count": 4,
   "metadata": {},
   "outputs": [],
   "source": [
    "deck=6\n",
    "\n",
    "Pokemons={'Fairy':[],'Grass':[],'Fire':[],'Flying':[],'Dark':[],'Ghost':[],'Psychic':[],'Bug':[],'Dragon':[],'Ice':[],\\\n",
    "          'Electric':[],'Poison':[],'Rock':[],'Ground':[],'Steel':[],'Normal':[],'Water':[],'Fighting':[]}\n",
    "\n",
    "#Separação do pokémon por tipo\n",
    "def ClassificaPokemon(dicionario):\n",
    "    for tipo in dicionario:\n",
    "        for pokemon in pokedex.Name:\n",
    "            linha=pokedex[pokedex.Name==pokemon]\n",
    "            if linha['Type 1'].all()==tipo or linha['Type 2'].all()==tipo:\n",
    "                dicionario[tipo].append(pokemon)\n",
    "ClassificaPokemon(Pokemons)"
   ]
  },
  {
   "cell_type": "code",
   "execution_count": 5,
   "metadata": {},
   "outputs": [],
   "source": [
    "#Dado um pokemon, identifica-se seu tipo composto (se tiver um tipo 2, por exemplo, tipo fire e tipo fighting)\n",
    "def ClassificaTipoComposto(pokemon):\n",
    "    tipo1=pokedex[pokedex.Name==pokemon]['Type 1'].all()\n",
    "    tipo2=pokedex[pokedex.Name==pokemon]['Type 2'].all()\n",
    "    return tipo1,tipo2\n",
    "\n",
    "\n",
    "#Define o ponto fraco de cada tipo de pokemon. REferencias de fraqueza baseadas no site: https://pokemondb.net/type\n",
    "def PontoFracoPorTipo(tipo):\n",
    "    if tipo=='Fairy':\n",
    "        ponto_fraco=['Poison','Steel']\n",
    "        ponto_forte=['Fighting','Bug','Dark']\n",
    "        no_effect=['Dragon']\n",
    "    elif tipo=='Ground':\n",
    "        ponto_fraco=['Water','Grass','Ice',]\n",
    "        ponto_forte=['Fighting','Bug','Dark']\n",
    "        no_effect=['Electric']\n",
    "    elif tipo=='Fire':\n",
    "        ponto_fraco=['Water','Ground','Rock']\n",
    "        ponto_forte=['Fire','Grass','Ice','Bug','Steel','Fairy']\n",
    "        no_effect=['None']\n",
    "    elif tipo=='Water':\n",
    "        ponto_fraco=['Electric','Grass']\n",
    "        ponto_forte=['Fire','Water','Steel','Ice']\n",
    "        no_effect=['None']\n",
    "    elif tipo=='Flying':\n",
    "        ponto_fraco=['Electric','Ice','Rock']\n",
    "        ponto_forte=['Grass','Fighting','Bug']\n",
    "        no_effect=['Ground']\n",
    "    elif tipo=='Dark':\n",
    "        ponto_fraco=['Fighting','Bug','Fairy']\n",
    "        ponto_forte=['Ghost','Dark']\n",
    "        no_effect=['Psychic']\n",
    "    elif tipo=='Ghost':\n",
    "        ponto_fraco=['Ghost','Dark']\n",
    "        ponto_forte=['Poison','Bug']\n",
    "        no_effect=['Normal','Fighting']\n",
    "    elif tipo=='Psychic':\n",
    "        ponto_fraco=['Bug','Ghost','Dark']\n",
    "        ponto_forte=['Fighting','Psychic']\n",
    "        no_effect=['None']\n",
    "    elif tipo=='Bug':\n",
    "        ponto_fraco=['Fire', 'Flying','Rock']\n",
    "        ponto_forte=['Grass','Fighting','Ground']\n",
    "        no_effect=['None']\n",
    "    elif tipo=='Ice':\n",
    "        ponto_fraco=['Fighting','Fire','Rock','Steel']\n",
    "        ponto_forte=['Ice']\n",
    "        no_effect=['None']\n",
    "    elif tipo=='Electric':\n",
    "        ponto_fraco=['Ground']\n",
    "        ponto_forte=['Electric','Steel']\n",
    "        no_effect=['None']\n",
    "    elif tipo=='Poison':\n",
    "        ponto_fraco=['Psychic','Ground']\n",
    "        ponto_forte=['Grass','Fighting','Poison','Bug','Fairy']\n",
    "        no_effect=['None']\n",
    "    elif tipo=='Rock':\n",
    "        ponto_fraco=['Fighting','Ground','Water','Steel','Grass']\n",
    "        ponto_forte=['Normal','Fire','Poison','Flying']\n",
    "        no_effect=['None']\n",
    "    elif tipo=='Grass':\n",
    "        ponto_fraco=['Fire','Flying','Ice','Poison','Bug']\n",
    "        ponto_forte=['Grass','Water','Electric','Ground']\n",
    "        no_effect=['None']\n",
    "    elif tipo=='Steel':\n",
    "        ponto_fraco=['Fire','Fighting','Ground']\n",
    "        ponto_forte=['Normal','Grass','Ice','Flying','Psychic','Bug','Rock','Dragon','Steel','Fairy']\n",
    "        no_effect=['Poison']\n",
    "    elif tipo=='Normal':\n",
    "        ponto_fraco=['Fighting']\n",
    "        ponto_forte=['None']\n",
    "        no_effect=['Ghost']\n",
    "    elif tipo=='Fighting':\n",
    "        ponto_fraco=['Flying','Psychic','Fairy']\n",
    "        ponto_forte=['Bug','Rock','Dark']\n",
    "        no_effect=['None']\n",
    "    elif tipo=='Water':\n",
    "        ponto_fraco=['Grass','Electric']\n",
    "        ponto_forte=['Water','Ice','Fire','Steel']\n",
    "        no_effect=['None']\n",
    "    else:\n",
    "        ponto_fraco=['None']\n",
    "        ponto_forte=['None']\n",
    "        no_effect=['None']\n",
    "    return ponto_fraco,ponto_forte,no_effect"
   ]
  },
  {
   "cell_type": "code",
   "execution_count": 6,
   "metadata": {},
   "outputs": [
    {
     "data": {
      "text/plain": [
       "\"Gyarados's weakness: ['Rock', 'Electric'] \""
      ]
     },
     "execution_count": 6,
     "metadata": {},
     "output_type": "execute_result"
    }
   ],
   "source": [
    "#Dado um pokemon e seus tipos, mostra o ponto fraco\n",
    "def PontoFraco(pokemon):\n",
    "    tipos=ClassificaTipoComposto(pokemon)\n",
    "    tipo1=tipos[0]\n",
    "    tipo2=tipos[1]\n",
    "    first=PontoFracoPorTipo(tipo1)\n",
    "    second=PontoFracoPorTipo(tipo2)\n",
    "    ponto_fraco_temporario=set(first[0]+second[0])\n",
    "    ponto_fraco_real=[]\n",
    "    for elemento in ponto_fraco_temporario:\n",
    "        if elemento not in second[1]:\n",
    "            if elemento not in second[2]:\n",
    "                if elemento not in first[1]:\n",
    "                    if elemento not in first[2]:\n",
    "                        ponto_fraco_real.append(elemento)\n",
    "    return \"{}'s weakness: {} \".format(pokemon,ponto_fraco_real)\n",
    "PontoFraco('Gyarados')"
   ]
  },
  {
   "cell_type": "code",
   "execution_count": 7,
   "metadata": {},
   "outputs": [
    {
     "data": {
      "text/plain": [
       "MiniBatchKMeans(batch_size=100, compute_labels=True, init='k-means++',\n",
       "        init_size=None, max_iter=100, max_no_improvement=10, n_clusters=2,\n",
       "        n_init=3, random_state=None, reassignment_ratio=0.01, tol=0.0,\n",
       "        verbose=0)"
      ]
     },
     "execution_count": 7,
     "metadata": {},
     "output_type": "execute_result"
    }
   ],
   "source": [
    "#Comparar de dois a dois (combinação de 6 dois a dois)\n",
    "dados_entrada = pokedex.loc[:,(\"Attack\", \"Defense\", \"Sp. Atk\",\"Sp. Def\",'Speed',\"HP\")]\n",
    "two_means = cluster.MiniBatchKMeans(n_clusters=2)\n",
    "two_means.fit(dados_entrada)"
   ]
  },
  {
   "cell_type": "code",
   "execution_count": 8,
   "metadata": {},
   "outputs": [
    {
     "data": {
      "text/plain": [
       "array([1, 1, 0, 0, 1, 1, 0, 0, 0, 1, 1, 0, 0, 1, 1, 1, 1, 1, 1, 0, 1, 1,\n",
       "       0, 0, 1, 1, 1, 0, 1, 0, 1, 0, 1, 0, 1, 1, 0, 1, 1, 0, 1, 0, 1, 0,\n",
       "       1, 1, 1, 0, 1, 1, 0, 1, 1, 1, 0, 1, 1, 1, 0, 1, 0, 1, 0, 1, 0, 1,\n",
       "       1, 0, 1, 1, 0, 0, 1, 1, 0, 1, 1, 0, 1, 0, 1, 1, 0, 1, 0, 1, 0, 0,\n",
       "       1, 0, 1, 1, 0, 1, 0, 1, 0, 1, 0, 1, 1, 0, 0, 1, 1, 0, 1, 0, 1, 0,\n",
       "       1, 0, 1, 0, 0, 0, 1, 1, 0, 1, 0, 1, 0, 0, 0, 1, 0, 1, 0, 1, 0, 0,\n",
       "       0, 0, 0, 0, 0, 0, 0, 1, 0, 0, 0, 1, 1, 0, 0, 0, 1, 1, 0, 1, 0, 0,\n",
       "       0, 0, 0, 0, 0, 1, 1, 0, 0, 0, 0, 0, 1, 1, 0, 1, 1, 0, 1, 1, 0, 1,\n",
       "       1, 1, 0, 1, 1, 1, 1, 0, 1, 0, 1, 1, 1, 1, 1, 1, 0, 1, 1, 0, 0, 0,\n",
       "       1, 1, 1, 0, 1, 1, 0, 1, 1, 0, 1, 1, 0, 0, 0, 1, 0, 0, 1, 1, 0, 1,\n",
       "       0, 1, 1, 0, 0, 1, 0, 0, 0, 0, 0, 0, 0, 1, 1, 0, 1, 1, 1, 0, 1, 1,\n",
       "       0, 1, 0, 0, 1, 0, 0, 0, 1, 0, 0, 0, 1, 1, 0, 1, 1, 1, 0, 0, 0, 0,\n",
       "       0, 1, 1, 0, 0, 0, 0, 0, 1, 1, 0, 0, 1, 1, 0, 0, 1, 1, 0, 0, 1, 1,\n",
       "       1, 1, 1, 1, 1, 1, 1, 1, 1, 0, 1, 1, 0, 1, 1, 1, 0, 1, 1, 0, 0, 1,\n",
       "       1, 1, 0, 1, 0, 0, 1, 0, 1, 1, 1, 0, 1, 0, 1, 1, 1, 1, 1, 0, 1, 0,\n",
       "       1, 0, 0, 0, 1, 1, 0, 1, 0, 0, 1, 1, 1, 1, 1, 1, 0, 1, 0, 0, 1, 0,\n",
       "       1, 0, 0, 0, 1, 0, 1, 1, 1, 0, 1, 0, 1, 0, 0, 0, 0, 0, 0, 1, 0, 1,\n",
       "       0, 1, 0, 1, 0, 1, 0, 1, 0, 1, 0, 1, 0, 0, 1, 0, 0, 1, 0, 0, 1, 1,\n",
       "       0, 0, 1, 1, 0, 1, 0, 0, 0, 1, 1, 1, 0, 0, 1, 1, 0, 0, 0, 0, 0, 0,\n",
       "       0, 0, 0, 0, 0, 0, 0, 0, 0, 0, 0, 0, 0, 0, 1, 1, 0, 1, 1, 0, 1, 1,\n",
       "       0, 1, 1, 0, 1, 1, 1, 1, 1, 1, 0, 1, 0, 1, 0, 1, 0, 1, 0, 0, 0, 0,\n",
       "       1, 0, 1, 1, 0, 1, 0, 1, 0, 0, 1, 0, 1, 0, 0, 0, 0, 1, 0, 1, 1, 0,\n",
       "       1, 0, 1, 1, 1, 1, 0, 1, 1, 0, 0, 1, 1, 0, 0, 1, 0, 1, 0, 1, 0, 0,\n",
       "       1, 0, 1, 1, 0, 0, 0, 0, 0, 0, 0, 0, 0, 0, 0, 0, 0, 0, 0, 0, 0, 0,\n",
       "       0, 0, 0, 0, 0, 0, 0, 0, 0, 0, 0, 0, 0, 0, 0, 0, 0, 0, 0, 0, 0, 0,\n",
       "       0, 0, 0, 0, 1, 1, 0, 1, 1, 0, 1, 1, 0, 1, 1, 1, 1, 0, 1, 0, 1, 0,\n",
       "       1, 0, 1, 0, 1, 0, 1, 1, 0, 1, 0, 1, 1, 0, 1, 1, 1, 0, 0, 0, 1, 1,\n",
       "       0, 1, 1, 0, 0, 0, 1, 1, 0, 1, 1, 0, 1, 0, 1, 0, 0, 1, 1, 0, 1, 0,\n",
       "       0, 0, 1, 0, 1, 0, 0, 1, 0, 1, 0, 1, 0, 1, 0, 1, 0, 1, 0, 1, 1, 0,\n",
       "       1, 1, 0, 1, 0, 1, 1, 0, 1, 0, 1, 1, 0, 1, 0, 1, 0, 0, 1, 0, 1, 0,\n",
       "       1, 0, 0, 1, 1, 0, 1, 0, 1, 1, 0, 1, 1, 0, 1, 0, 0, 1, 0, 0, 1, 0,\n",
       "       0, 1, 0, 1, 0, 0, 1, 0, 1, 0, 0, 0, 1, 1, 0, 1, 0, 0, 0, 0, 0, 0,\n",
       "       0, 0, 0, 0, 0, 0, 0, 0, 0, 0, 0, 0, 0, 0, 1, 1, 0, 1, 1, 0, 1, 1,\n",
       "       0, 1, 1, 1, 1, 0, 1, 1, 1, 1, 0, 1, 1, 0, 1, 0, 1, 0, 0, 1, 0, 0,\n",
       "       1, 0, 0, 0, 1, 0, 1, 0, 1, 0, 1, 0, 1, 0, 1, 0, 1, 0, 1, 0, 1, 0,\n",
       "       0, 0, 1, 0, 1, 0, 0, 0, 1, 0, 1, 1, 1, 1, 0, 0, 0, 0, 1, 0, 1, 0,\n",
       "       0, 0, 0, 0, 0, 0, 0, 0])"
      ]
     },
     "execution_count": 8,
     "metadata": {},
     "output_type": "execute_result"
    }
   ],
   "source": [
    "saida = two_means.predict(dados_entrada)\n",
    "saida"
   ]
  },
  {
   "cell_type": "code",
   "execution_count": 9,
   "metadata": {},
   "outputs": [],
   "source": [
    "conjunto = dados_entrada.copy()\n",
    "conjunto[\"saida\"] = saida"
   ]
  },
  {
   "cell_type": "code",
   "execution_count": 10,
   "metadata": {},
   "outputs": [
    {
     "data": {
      "image/png": "[encoded data removed]",
      "text/plain": [
       "<matplotlib.figure.Figure at 0x21b5cfe8630>"
      ]
     },
     "metadata": {
      "needs_background": "light"
     },
     "output_type": "display_data"
    }
   ],
   "source": [
    "# plt3d = plt.figure().gca(projection=\"3d\")\n",
    "grupo0 = conjunto[conjunto.saida==0]\n",
    "grupo1 = conjunto[conjunto.saida==1]\n",
    "\n",
    "plt.plot(grupo0.Attack, grupo0.Defense,\"o\")\n",
    "plt.show()\n",
    "\n",
    "# plt3d.scatter(grupo0[\"Attack\"], grupo0[\"Defense\"], grupo0[\"HP\"], color=\"r\")\n",
    "# plt3d.scatter(grupo1[\"Attack\"], grupo1[\"Defense\"], grupo1[\"HP\"], color=\"g\")\n",
    "# plt3d.scatter(grupo2[\"Attack\"], grupo2[\"Defense\"], grupo2[\"HP\"], color=\"b\")"
   ]
  },
  {
   "cell_type": "markdown",
   "metadata": {},
   "source": [
    "## <font color = \"BLUE\"> Conclusão "
   ]
  }
 ],
 "metadata": {
  "kernelspec": {
   "display_name": "Python 3",
   "language": "python",
   "name": "python3"
  },
  "language_info": {
   "codemirror_mode": {
    "name": "ipython",
    "version": 3
   },
   "file_extension": ".py",
   "mimetype": "text/x-python",
   "name": "python",
   "nbconvert_exporter": "python",
   "pygments_lexer": "ipython3",
   "version": "3.6.4"
  }
 },
 "nbformat": 4,
 "nbformat_minor": 2
}
