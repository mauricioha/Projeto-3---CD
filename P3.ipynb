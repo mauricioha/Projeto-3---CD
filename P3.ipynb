{
 "cells": [
  {
   "cell_type": "code",
   "execution_count": 3,
   "metadata": {},
   "outputs": [],
   "source": [
    "import pandas as pd\n",
    "pokedex=pd.read_csv(\"Pokemon.csv\")"
   ]
  },
  {
   "cell_type": "code",
   "execution_count": 4,
   "metadata": {},
   "outputs": [],
   "source": [
    "deck=6\n",
    "\n",
    "Pokemons={'Fairy':[],'Grass':[],'Fire':[],'Flying':[],'Dark':[],'Ghost':[],'Psychic':[],'Bug':[],'Dragon':[],'Ice':[],\\\n",
    "          'Electric':[],'Poison':[],'Rock':[],'Ground':[],'Steel':[],'Normal':[],'Water':[],'Fighting':[]}\n",
    "\n",
    "#Separação do pokémon por tipo\n",
    "def ClassificaPokemon(dicionario):\n",
    "    for tipo in dicionario:\n",
    "        for pokemon in pokedex.Name:\n",
    "            linha=pokedex[pokedex.Name==pokemon]\n",
    "            if linha['Type 1'].all()==tipo or linha['Type 2'].all()==tipo:\n",
    "                dicionario[tipo].append(pokemon)\n",
    "ClassificaPokemon(Pokemons)"
   ]
  },
  {
   "cell_type": "code",
   "execution_count": 5,
   "metadata": {},
   "outputs": [],
   "source": [
    "#Dado um pokemon, identifica-se seu tipo composto (se tiver um tipo 2, por exemplo, tipo fire e tipo fighting)\n",
    "def ClassificaTipoComposto(pokemon):\n",
    "    tipo1=pokedex[pokedex.Name==pokemon]['Type 1'].all()\n",
    "    tipo2=pokedex[pokedex.Name==pokemon]['Type 2'].all()\n",
    "    return tipo1,tipo2\n",
    "\n",
    "\n",
    "#Define o ponto fraco de cada tipo de pokemon. REferencias de fraqueza baseadas no site: https://pokemondb.net/type\n",
    "def PontoFracoPorTipo(tipo):\n",
    "    if tipo=='Fairy':\n",
    "        ponto_fraco=['Poison','Steel']\n",
    "        ponto_forte=['Fighting','Bug','Dark']\n",
    "        no_effect=['Dragon']\n",
    "    elif tipo=='Ground':\n",
    "        ponto_fraco=['Water','Grass','Ice',]\n",
    "        ponto_forte=['Fighting','Bug','Dark']\n",
    "        no_effect=['Electric']\n",
    "    elif tipo=='Fire':\n",
    "        ponto_fraco=['Water','Ground','Rock']\n",
    "        ponto_forte=['Fire','Grass','Ice','Bug','Steel','Fairy']\n",
    "        no_effect=['None']\n",
    "    elif tipo=='Water':\n",
    "        ponto_fraco=['Electric','Grass']\n",
    "        ponto_forte=['Fire','Water','Steel','Ice']\n",
    "        no_effect=['None']\n",
    "    elif tipo=='Flying':\n",
    "        ponto_fraco=['Electric','Ice','Rock']\n",
    "        ponto_forte=['Grass','Fighting','Bug']\n",
    "        no_effect=['Ground']\n",
    "    elif tipo=='Dark':\n",
    "        ponto_fraco=['Fighting','Bug','Fairy']\n",
    "        ponto_forte=['Ghost','Dark']\n",
    "        no_effect=['Psychic']\n",
    "    elif tipo=='Ghost':\n",
    "        ponto_fraco=['Ghost','Dark']\n",
    "        ponto_forte=['Poison','Bug']\n",
    "        no_effect=['Normal','Fighting']\n",
    "    elif tipo=='Psychic':\n",
    "        ponto_fraco=['Bug','Ghost','Dark']\n",
    "        ponto_forte=['Fighting','Psychic']\n",
    "        no_effect=['None']\n",
    "    elif tipo=='Bug':\n",
    "        ponto_fraco=['Fire', 'Flying','Rock']\n",
    "        ponto_forte=['Grass','Fighting','Ground']\n",
    "        no_effect=['None']\n",
    "    elif tipo=='Ice':\n",
    "        ponto_fraco=['Fighting','Fire','Rock','Steel']\n",
    "        ponto_forte=['Ice']\n",
    "        no_effect=['None']\n",
    "    elif tipo=='Electric':\n",
    "        ponto_fraco=['Ground']\n",
    "        ponto_forte=['Electric','Steel']\n",
    "        no_effect=['None']\n",
    "    elif tipo=='Poison':\n",
    "        ponto_fraco=['Psychic','Ground']\n",
    "        ponto_forte=['Grass','Fighting','Poison','Bug','Fairy']\n",
    "        no_effect=['None']\n",
    "    elif tipo=='Rock':\n",
    "        ponto_fraco=['Fighting','Ground','Water','Steel','Grass']\n",
    "        ponto_forte=['Normal','Fire','Poison','Flying']\n",
    "        no_effect=['None']\n",
    "    elif tipo=='Grass':\n",
    "        ponto_fraco=['Fire','Flying','Ice','Poison','Bug']\n",
    "        ponto_forte=['Grass','Water','Electric','Ground']\n",
    "        no_effect=['None']\n",
    "    elif tipo=='Steel':\n",
    "        ponto_fraco=['Fire','Fighting','Ground']\n",
    "        ponto_forte=['Normal','Grass','Ice','Flying','Psychic','Bug','Rock','Dragon','Steel','Fairy']\n",
    "        no_effect=['Poison']\n",
    "    elif tipo=='Normal':\n",
    "        ponto_fraco=['Fighting']\n",
    "        ponto_forte=['None']\n",
    "        no_effect=['Ghost']\n",
    "    elif tipo=='Fighting':\n",
    "        ponto_fraco=['Flying','Psychic','Fairy']\n",
    "        ponto_forte=['Bug','Rock','Dark']\n",
    "        no_effect=['None']\n",
    "    elif tipo=='Water':\n",
    "        ponto_fraco=['Grass','Electric']\n",
    "        ponto_forte=['Water','Ice','Fire','Steel']\n",
    "        no_effect=['None']\n",
    "    else:\n",
    "        ponto_fraco=['None']\n",
    "        ponto_forte=['None']\n",
    "        no_effect=['None']\n",
    "    return ponto_fraco,ponto_forte,no_effect"
   ]
  },
  {
   "cell_type": "code",
   "execution_count": 10,
   "metadata": {},
   "outputs": [
    {
     "data": {
      "text/plain": [
       "\"Pidgeotto's weakness: ['Rock', 'Electric', 'Ice'] \""
      ]
     },
     "execution_count": 10,
     "metadata": {},
     "output_type": "execute_result"
    }
   ],
   "source": [
    "#Dado um pokemon e seus tipos, mostra o ponto fraco\n",
    "def PontoFraco(pokemon):\n",
    "    tipos=ClassificaTipoComposto(pokemon)\n",
    "    tipo1=tipos[0]\n",
    "    tipo2=tipos[1]\n",
    "    first=PontoFracoPorTipo(tipo1)\n",
    "    second=PontoFracoPorTipo(tipo2)\n",
    "    ponto_fraco_temporario=set(first[0]+second[0])\n",
    "    ponto_fraco_real=[]\n",
    "    for elemento in ponto_fraco_temporario:\n",
    "        if elemento not in second[1]:\n",
    "            if elemento not in second[2]:\n",
    "                if elemento not in first[1]:\n",
    "                    if elemento not in first[2]:\n",
    "                        ponto_fraco_real.append(elemento)\n",
    "    return \"{}'s weakness: {} \".format(pokemon,ponto_fraco_real)\n",
    "PontoFraco('Pidgeotto')"
   ]
  },
  {
   "cell_type": "code",
   "execution_count": 7,
   "metadata": {},
   "outputs": [
    {
     "ename": "SyntaxError",
     "evalue": "invalid syntax (<ipython-input-7-c541122edd72>, line 3)",
     "output_type": "error",
     "traceback": [
      "\u001b[1;36m  File \u001b[1;32m\"<ipython-input-7-c541122edd72>\"\u001b[1;36m, line \u001b[1;32m3\u001b[0m\n\u001b[1;33m    pd.Series(pokedex.Name)[]\u001b[0m\n\u001b[1;37m                            ^\u001b[0m\n\u001b[1;31mSyntaxError\u001b[0m\u001b[1;31m:\u001b[0m invalid syntax\n"
     ]
    }
   ],
   "source": [
    "# pergunta=input('Digite o nome de um pokémon (primeira letra maiúscula): ')\n",
    "# if pergunta in pokedex.Name:\n",
    "pd.Series(pokedex.Name)[]"
   ]
  },
  {
   "cell_type": "code",
   "execution_count": null,
   "metadata": {},
   "outputs": [],
   "source": []
  }
 ],
 "metadata": {
  "kernelspec": {
   "display_name": "Python 3",
   "language": "python",
   "name": "python3"
  },
  "language_info": {
   "codemirror_mode": {
    "name": "ipython",
    "version": 3
   },
   "file_extension": ".py",
   "mimetype": "text/x-python",
   "name": "python",
   "nbconvert_exporter": "python",
   "pygments_lexer": "ipython3",
   "version": "3.6.4"
  }
 },
 "nbformat": 4,
 "nbformat_minor": 2
}
