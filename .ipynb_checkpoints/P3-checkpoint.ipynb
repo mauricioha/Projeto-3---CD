{
 "cells": [
  {
   "cell_type": "code",
   "execution_count": 1,
   "metadata": {},
   "outputs": [],
   "source": [
    "import pandas as pd\n",
    "from sklearn import cluster, datasets\n",
    "from sklearn.neighbors import kneighbors_graph\n",
    "from sklearn.preprocessing import StandardScaler\n",
    "\n",
    "\n",
    "pokedex=pd.read_csv(\"Pokemon.csv\")"
   ]
  },
  {
   "cell_type": "code",
   "execution_count": 2,
   "metadata": {},
   "outputs": [],
   "source": [
    "deck=6\n",
    "\n",
    "Pokemons={'Fairy':[],'Grass':[],'Fire':[],'Flying':[],'Dark':[],'Ghost':[],'Psychic':[],'Bug':[],'Dragon':[],'Ice':[],\\\n",
    "          'Electric':[],'Poison':[],'Rock':[],'Ground':[],'Steel':[],'Normal':[],'Water':[],'Fighting':[]}\n",
    "\n",
    "#Separação do pokémon por tipo\n",
    "def ClassificaPokemon(dicionario):\n",
    "    for tipo in dicionario:\n",
    "        for pokemon in pokedex.Name:\n",
    "            linha=pokedex[pokedex.Name==pokemon]\n",
    "            if linha['Type 1'].all()==tipo or linha['Type 2'].all()==tipo:\n",
    "                dicionario[tipo].append(pokemon)\n",
    "ClassificaPokemon(Pokemons)"
   ]
  },
  {
   "cell_type": "code",
   "execution_count": 3,
   "metadata": {},
   "outputs": [],
   "source": [
    "#Dado um pokemon, identifica-se seu tipo composto (se tiver um tipo 2, por exemplo, tipo fire e tipo fighting)\n",
    "def ClassificaTipoComposto(pokemon):\n",
    "    tipo1=pokedex[pokedex.Name==pokemon]['Type 1'].all()\n",
    "    tipo2=pokedex[pokedex.Name==pokemon]['Type 2'].all()\n",
    "    return tipo1,tipo2\n",
    "\n",
    "\n",
    "#Define o ponto fraco de cada tipo de pokemon. REferencias de fraqueza baseadas no site: https://pokemondb.net/type\n",
    "def PontoFracoPorTipo(tipo):\n",
    "    if tipo=='Fairy':\n",
    "        ponto_fraco=['Poison','Steel']\n",
    "        ponto_forte=['Fighting','Bug','Dark']\n",
    "        no_effect=['Dragon']\n",
    "    elif tipo=='Ground':\n",
    "        ponto_fraco=['Water','Grass','Ice',]\n",
    "        ponto_forte=['Fighting','Bug','Dark']\n",
    "        no_effect=['Electric']\n",
    "    elif tipo=='Fire':\n",
    "        ponto_fraco=['Water','Ground','Rock']\n",
    "        ponto_forte=['Fire','Grass','Ice','Bug','Steel','Fairy']\n",
    "        no_effect=['None']\n",
    "    elif tipo=='Water':\n",
    "        ponto_fraco=['Electric','Grass']\n",
    "        ponto_forte=['Fire','Water','Steel','Ice']\n",
    "        no_effect=['None']\n",
    "    elif tipo=='Flying':\n",
    "        ponto_fraco=['Electric','Ice','Rock']\n",
    "        ponto_forte=['Grass','Fighting','Bug']\n",
    "        no_effect=['Ground']\n",
    "    elif tipo=='Dark':\n",
    "        ponto_fraco=['Fighting','Bug','Fairy']\n",
    "        ponto_forte=['Ghost','Dark']\n",
    "        no_effect=['Psychic']\n",
    "    elif tipo=='Ghost':\n",
    "        ponto_fraco=['Ghost','Dark']\n",
    "        ponto_forte=['Poison','Bug']\n",
    "        no_effect=['Normal','Fighting']\n",
    "    elif tipo=='Psychic':\n",
    "        ponto_fraco=['Bug','Ghost','Dark']\n",
    "        ponto_forte=['Fighting','Psychic']\n",
    "        no_effect=['None']\n",
    "    elif tipo=='Bug':\n",
    "        ponto_fraco=['Fire', 'Flying','Rock']\n",
    "        ponto_forte=['Grass','Fighting','Ground']\n",
    "        no_effect=['None']\n",
    "    elif tipo=='Ice':\n",
    "        ponto_fraco=['Fighting','Fire','Rock','Steel']\n",
    "        ponto_forte=['Ice']\n",
    "        no_effect=['None']\n",
    "    elif tipo=='Electric':\n",
    "        ponto_fraco=['Ground']\n",
    "        ponto_forte=['Electric','Steel']\n",
    "        no_effect=['None']\n",
    "    elif tipo=='Poison':\n",
    "        ponto_fraco=['Psychic','Ground']\n",
    "        ponto_forte=['Grass','Fighting','Poison','Bug','Fairy']\n",
    "        no_effect=['None']\n",
    "    elif tipo=='Rock':\n",
    "        ponto_fraco=['Fighting','Ground','Water','Steel','Grass']\n",
    "        ponto_forte=['Normal','Fire','Poison','Flying']\n",
    "        no_effect=['None']\n",
    "    elif tipo=='Grass':\n",
    "        ponto_fraco=['Fire','Flying','Ice','Poison','Bug']\n",
    "        ponto_forte=['Grass','Water','Electric','Ground']\n",
    "        no_effect=['None']\n",
    "    elif tipo=='Steel':\n",
    "        ponto_fraco=['Fire','Fighting','Ground']\n",
    "        ponto_forte=['Normal','Grass','Ice','Flying','Psychic','Bug','Rock','Dragon','Steel','Fairy']\n",
    "        no_effect=['Poison']\n",
    "    elif tipo=='Normal':\n",
    "        ponto_fraco=['Fighting']\n",
    "        ponto_forte=['None']\n",
    "        no_effect=['Ghost']\n",
    "    elif tipo=='Fighting':\n",
    "        ponto_fraco=['Flying','Psychic','Fairy']\n",
    "        ponto_forte=['Bug','Rock','Dark']\n",
    "        no_effect=['None']\n",
    "    elif tipo=='Water':\n",
    "        ponto_fraco=['Grass','Electric']\n",
    "        ponto_forte=['Water','Ice','Fire','Steel']\n",
    "        no_effect=['None']\n",
    "    else:\n",
    "        ponto_fraco=['None']\n",
    "        ponto_forte=['None']\n",
    "        no_effect=['None']\n",
    "    return ponto_fraco,ponto_forte,no_effect"
   ]
  },
  {
   "cell_type": "code",
   "execution_count": 4,
   "metadata": {},
   "outputs": [
    {
     "data": {
      "text/plain": [
       "\"Pidgeotto's weakness: ['Rock', 'Electric', 'Ice'] \""
      ]
     },
     "execution_count": 4,
     "metadata": {},
     "output_type": "execute_result"
    }
   ],
   "source": [
    "#Dado um pokemon e seus tipos, mostra o ponto fraco\n",
    "def PontoFraco(pokemon):\n",
    "    tipos=ClassificaTipoComposto(pokemon)\n",
    "    tipo1=tipos[0]\n",
    "    tipo2=tipos[1]\n",
    "    first=PontoFracoPorTipo(tipo1)\n",
    "    second=PontoFracoPorTipo(tipo2)\n",
    "    ponto_fraco_temporario=set(first[0]+second[0])\n",
    "    ponto_fraco_real=[]\n",
    "    for elemento in ponto_fraco_temporario:\n",
    "        if elemento not in second[1]:\n",
    "            if elemento not in second[2]:\n",
    "                if elemento not in first[1]:\n",
    "                    if elemento not in first[2]:\n",
    "                        ponto_fraco_real.append(elemento)\n",
    "    return \"{}'s weakness: {} \".format(pokemon,ponto_fraco_real)\n",
    "PontoFraco('Pidgeotto')"
   ]
  },
  {
   "cell_type": "code",
   "execution_count": 9,
   "metadata": {},
   "outputs": [
    {
     "ename": "ValueError",
     "evalue": "could not convert string to float: 'Water'",
     "output_type": "error",
     "traceback": [
      "\u001b[1;31m---------------------------------------------------------------------------\u001b[0m",
      "\u001b[1;31mValueError\u001b[0m                                Traceback (most recent call last)",
      "\u001b[1;32m<ipython-input-9-95cd86a5c2ad>\u001b[0m in \u001b[0;36m<module>\u001b[1;34m()\u001b[0m\n\u001b[0;32m      1\u001b[0m \u001b[0mthree_means\u001b[0m \u001b[1;33m=\u001b[0m \u001b[0mcluster\u001b[0m\u001b[1;33m.\u001b[0m\u001b[0mMiniBatchKMeans\u001b[0m\u001b[1;33m(\u001b[0m\u001b[0mn_clusters\u001b[0m\u001b[1;33m=\u001b[0m\u001b[1;36m10\u001b[0m\u001b[1;33m)\u001b[0m\u001b[1;33m\u001b[0m\u001b[0m\n\u001b[1;32m----> 2\u001b[1;33m \u001b[0mthree_means\u001b[0m\u001b[1;33m.\u001b[0m\u001b[0mfit\u001b[0m\u001b[1;33m(\u001b[0m\u001b[0mpokedex\u001b[0m\u001b[1;33m)\u001b[0m\u001b[1;33m\u001b[0m\u001b[0m\n\u001b[0m",
      "\u001b[1;32m~\\AppData\\Local\\Continuum\\anaconda3\\lib\\site-packages\\sklearn\\cluster\\k_means_.py\u001b[0m in \u001b[0;36mfit\u001b[1;34m(self, X, y, sample_weight)\u001b[0m\n\u001b[0;32m   1487\u001b[0m         \u001b[0mrandom_state\u001b[0m \u001b[1;33m=\u001b[0m \u001b[0mcheck_random_state\u001b[0m\u001b[1;33m(\u001b[0m\u001b[0mself\u001b[0m\u001b[1;33m.\u001b[0m\u001b[0mrandom_state\u001b[0m\u001b[1;33m)\u001b[0m\u001b[1;33m\u001b[0m\u001b[0m\n\u001b[0;32m   1488\u001b[0m         X = check_array(X, accept_sparse=\"csr\", order='C',\n\u001b[1;32m-> 1489\u001b[1;33m                         dtype=[np.float64, np.float32])\n\u001b[0m\u001b[0;32m   1490\u001b[0m         \u001b[0mn_samples\u001b[0m\u001b[1;33m,\u001b[0m \u001b[0mn_features\u001b[0m \u001b[1;33m=\u001b[0m \u001b[0mX\u001b[0m\u001b[1;33m.\u001b[0m\u001b[0mshape\u001b[0m\u001b[1;33m\u001b[0m\u001b[0m\n\u001b[0;32m   1491\u001b[0m         \u001b[1;32mif\u001b[0m \u001b[0mn_samples\u001b[0m \u001b[1;33m<\u001b[0m \u001b[0mself\u001b[0m\u001b[1;33m.\u001b[0m\u001b[0mn_clusters\u001b[0m\u001b[1;33m:\u001b[0m\u001b[1;33m\u001b[0m\u001b[0m\n",
      "\u001b[1;32m~\\AppData\\Local\\Continuum\\anaconda3\\lib\\site-packages\\sklearn\\utils\\validation.py\u001b[0m in \u001b[0;36mcheck_array\u001b[1;34m(array, accept_sparse, accept_large_sparse, dtype, order, copy, force_all_finite, ensure_2d, allow_nd, ensure_min_samples, ensure_min_features, warn_on_dtype, estimator)\u001b[0m\n\u001b[0;32m    520\u001b[0m             \u001b[1;32mtry\u001b[0m\u001b[1;33m:\u001b[0m\u001b[1;33m\u001b[0m\u001b[0m\n\u001b[0;32m    521\u001b[0m                 \u001b[0mwarnings\u001b[0m\u001b[1;33m.\u001b[0m\u001b[0msimplefilter\u001b[0m\u001b[1;33m(\u001b[0m\u001b[1;34m'error'\u001b[0m\u001b[1;33m,\u001b[0m \u001b[0mComplexWarning\u001b[0m\u001b[1;33m)\u001b[0m\u001b[1;33m\u001b[0m\u001b[0m\n\u001b[1;32m--> 522\u001b[1;33m                 \u001b[0marray\u001b[0m \u001b[1;33m=\u001b[0m \u001b[0mnp\u001b[0m\u001b[1;33m.\u001b[0m\u001b[0masarray\u001b[0m\u001b[1;33m(\u001b[0m\u001b[0marray\u001b[0m\u001b[1;33m,\u001b[0m \u001b[0mdtype\u001b[0m\u001b[1;33m=\u001b[0m\u001b[0mdtype\u001b[0m\u001b[1;33m,\u001b[0m \u001b[0morder\u001b[0m\u001b[1;33m=\u001b[0m\u001b[0morder\u001b[0m\u001b[1;33m)\u001b[0m\u001b[1;33m\u001b[0m\u001b[0m\n\u001b[0m\u001b[0;32m    523\u001b[0m             \u001b[1;32mexcept\u001b[0m \u001b[0mComplexWarning\u001b[0m\u001b[1;33m:\u001b[0m\u001b[1;33m\u001b[0m\u001b[0m\n\u001b[0;32m    524\u001b[0m                 raise ValueError(\"Complex data not supported\\n\"\n",
      "\u001b[1;32m~\\AppData\\Local\\Continuum\\anaconda3\\lib\\site-packages\\numpy\\core\\numeric.py\u001b[0m in \u001b[0;36masarray\u001b[1;34m(a, dtype, order)\u001b[0m\n\u001b[0;32m    499\u001b[0m \u001b[1;33m\u001b[0m\u001b[0m\n\u001b[0;32m    500\u001b[0m     \"\"\"\n\u001b[1;32m--> 501\u001b[1;33m     \u001b[1;32mreturn\u001b[0m \u001b[0marray\u001b[0m\u001b[1;33m(\u001b[0m\u001b[0ma\u001b[0m\u001b[1;33m,\u001b[0m \u001b[0mdtype\u001b[0m\u001b[1;33m,\u001b[0m \u001b[0mcopy\u001b[0m\u001b[1;33m=\u001b[0m\u001b[1;32mFalse\u001b[0m\u001b[1;33m,\u001b[0m \u001b[0morder\u001b[0m\u001b[1;33m=\u001b[0m\u001b[0morder\u001b[0m\u001b[1;33m)\u001b[0m\u001b[1;33m\u001b[0m\u001b[0m\n\u001b[0m\u001b[0;32m    502\u001b[0m \u001b[1;33m\u001b[0m\u001b[0m\n\u001b[0;32m    503\u001b[0m \u001b[1;33m\u001b[0m\u001b[0m\n",
      "\u001b[1;31mValueError\u001b[0m: could not convert string to float: 'Water'"
     ]
    }
   ],
   "source": [
    "three_means = cluster.MiniBatchKMeans(n_clusters=10)\n",
    "three_means.fit(pokedex)"
   ]
  },
  {
   "cell_type": "code",
   "execution_count": null,
   "metadata": {},
   "outputs": [],
   "source": []
  }
 ],
 "metadata": {
  "kernelspec": {
   "display_name": "Python 3",
   "language": "python",
   "name": "python3"
  },
  "language_info": {
   "codemirror_mode": {
    "name": "ipython",
    "version": 3
   },
   "file_extension": ".py",
   "mimetype": "text/x-python",
   "name": "python",
   "nbconvert_exporter": "python",
   "pygments_lexer": "ipython3",
   "version": "3.6.4"
  }
 },
 "nbformat": 4,
 "nbformat_minor": 2
}
